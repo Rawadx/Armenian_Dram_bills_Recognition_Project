{
 "cells": [
  {
   "cell_type": "code",
   "execution_count": null,
   "metadata": {},
   "outputs": [],
   "source": [
    "import cv2\n",
    "import numpy as np\n",
    "from matplotlib import pyplot as plt"
   ]
  },
  {
   "cell_type": "code",
   "execution_count": null,
   "metadata": {},
   "outputs": [],
   "source": [
    "% run Exctracting_Features.ipynb"
   ]
  },
  {
   "cell_type": "code",
   "execution_count": 14,
   "metadata": {},
   "outputs": [],
   "source": [
    "training_set = ['images/1,000AMD_1.jpg','images/1,000AMD_2.jpg','images/1,000AMD_3.jpg','images/1,000AMD_4.jpg',\n",
    "                'images/1,000AMD_5.jpg','images/1,000AMD_6.jpg','images/1,000AMD_7.jpg','images/1,000AMD_8.jpg',\n",
    "                'images/1,000AMD_9.jpg','images/1,000AMD_10.jpg','images/1,000AMD_11.jpg','images/1,000AMD_12.jpg',\n",
    "                'images/1,000AMD_13.jpg','images/1,000AMD_14.jpg','images/1,000AMD_15.jpg','1,000_16.jpg',\n",
    "                \n",
    "               'images/2,000AMD_1.jpg','images/2,000AMD_2.jpg','images/5,000AMD_1.jpg','images/5,000AMD_2.jpg',\n",
    "               'images/5,000AMD_3.jpg','images/5,000AMD_4.jpg','images/10,000AMD_1.jpg','images/10,000AMD_2.jpg',\n",
    "               'images/10,000AMD_3.jpg','images/10,000AMD_4.jpg','images/20,000AMD_1.jpg','images/20,000AMD_2.jpg',\n",
    "               'images/20,000AMD_3.jpg','images/20,000AMD_4.jpg','images/50,000AMD_1.jpg','images/50,000AMD_2.jpg',\n",
    "               'images/50,000AMD_3.jpg','images/50,000AMD_4.jpg', 'images/100,000AMD_1.jpg','images/100,000AMD_2.jpg']"
   ]
  },
  {
   "cell_type": "code",
   "execution_count": 48,
   "metadata": {},
   "outputs": [],
   "source": [
    "def display_img(img,cmap=None):\n",
    "    fig = plt.figure(figsize=(8,14))\n",
    "    ax = fig.add_subplot(111)\n",
    "    ax.imshow(img,cmap)"
   ]
  },
  {
   "cell_type": "code",
   "execution_count": 57,
   "metadata": {},
   "outputs": [],
   "source": [
    "\n",
    "\n",
    "test = cv2.imread(\"test/1,000AMD_29.jpg\")\n",
    "img = cv2.cvtColor(test, cv2.COLOR_BGR2RGB)"
   ]
  },
  {
   "cell_type": "code",
   "execution_count": null,
   "metadata": {},
   "outputs": [
    {
     "name": "stdout",
     "output_type": "stream",
     "text": [
      "\n",
      "Detected denomination: Rs.  1,000AMD_\n"
     ]
    }
   ],
   "source": [
    "\n",
    "\n",
    "max_val = 8\n",
    "max_pt = -1\n",
    "max_kp = 0\n",
    "\n",
    "orb = cv2.ORB_create()\n",
    "\n",
    "\n",
    "\n",
    "\n",
    "test_img = cv2.cvtColor(test, cv2.COLOR_RGB2GRAY)\n",
    "##cv2.resize(test_img, None, fx=0.4, fy=0.4, interpolation = cv2.INTER_AREA)\n",
    "# create a mask using the alpha channel of the original image--don't\n",
    "# use transparent or partially transparent parts\n",
    "\n",
    "# keypoints and descriptors\n",
    "(kp1, des1) = orb.detectAndCompute(test_img, None)\n",
    "\n",
    "\n",
    "\n",
    "for i in range(0, len(training_set)):\n",
    "    # train image\n",
    "    train_img = cv2.imread(training_set[i], cv2.IMREAD_GRAYSCALE)\n",
    "\n",
    "    (kp2, des2) = orb.detectAndCompute(train_img, None)\n",
    "\n",
    "    # brute force matcher\n",
    "    bf = cv2.BFMatcher()\n",
    "    all_matches = bf.knnMatch(des1, des2, k=2)\n",
    "\n",
    "    good = []\n",
    "    # give an arbitrary number -> 0.789\n",
    "    # if good -> append to list of good matches\n",
    "    for (m, n) in all_matches:\n",
    "        if m.distance < 0.8 * n.distance:\n",
    "            good.append([m])\n",
    "\n",
    "    if len(good) > max_val:\n",
    "        max_val = len(good)\n",
    "        max_pt = i\n",
    "        max_kp = kp2\n",
    "\n",
    "#     print(i, ' ', training_set[i], ' ', len(good))\n",
    "\n",
    "if max_val != 8 :\n",
    "#     print(training_set[max_pt])\n",
    "#     print('good matches ', max_val)\n",
    "    rain_img = cv2.imread(training_set[max_pt])\n",
    "    img3 = cv2.drawMatchesKnn(test_img, kp1, train_img, max_kp, good, 4)\n",
    "    \n",
    "    note = str(training_set[max_pt])[7:-6]\n",
    "    print('\\nDetected denomination: Rs. ', note)\n",
    "    \n",
    "    \n",
    "    cv2.putText(img, note,(100,500), cv2.FONT_HERSHEY_SIMPLEX, 20,(255,0,0),20,cv2.LINE_AA)\n",
    "\n",
    "\n",
    "\n",
    "\n",
    "    display_img(img)\n",
    "    \n",
    "        \n",
    "    \n",
    "#     (plt.imshow(img3), plt.show())\n",
    "else:\n",
    "    print('No Matches')"
   ]
  },
  {
   "cell_type": "code",
   "execution_count": null,
   "metadata": {},
   "outputs": [],
   "source": []
  }
 ],
 "metadata": {
  "kernelspec": {
   "display_name": "Python 3",
   "language": "python",
   "name": "python3"
  },
  "language_info": {
   "codemirror_mode": {
    "name": "ipython",
    "version": 3
   },
   "file_extension": ".py",
   "mimetype": "text/x-python",
   "name": "python",
   "nbconvert_exporter": "python",
   "pygments_lexer": "ipython3",
   "version": "3.7.3"
  }
 },
 "nbformat": 4,
 "nbformat_minor": 2
}
