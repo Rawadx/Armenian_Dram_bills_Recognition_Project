{
 "cells": [
  {
   "cell_type": "code",
   "execution_count": 1,
   "metadata": {},
   "outputs": [],
   "source": [
    "import numpy as np\n",
    "import cv2"
   ]
  },
  {
   "cell_type": "code",
   "execution_count": 3,
   "metadata": {},
   "outputs": [],
   "source": [
    "cap = cv2.VideoCapture(0)\n",
    "\n",
    "fg = cv2.createBackgroundSubtractorMOG2()\n",
    "\n",
    "\n",
    "\n",
    "while cap.isOpened():\n",
    "    \n",
    "    re, frame = cap.read()\n",
    "    \n",
    "    gray = cv2.cvtColor(frame, cv2.COLOR_BGR2GRAY)\n",
    "    \n",
    "    bg = fg.apply(gray)\n",
    "    \n",
    "    kernel = cv2.getStructuringElement(cv2.MORPH_ELLIPSE, (5,5))\n",
    "    closing = cv2.morphologyEx(bg, cv2.MORPH_CLOSE,kernel)\n",
    "    opening = cv2.morphologyEx(closing, cv2.MORPH_CLOSE, kernel)\n",
    "    dilation = cv2.dilate(opening, kernel)\n",
    "    retvalbin, result = cv2.threshold(dilation, 120, 255, cv2.THRESH_BINARY)\n",
    "    \n",
    "    \n",
    "    im, contour, hy = cv2.findContours(result, cv2.RETR_TREE, cv2.CHAIN_APPROX_SIMPLE)\n",
    "    \n",
    "    minarea = 10000\n",
    "    maxarea = 40000\n",
    "    \n",
    "    cxx = np.zeros(len(contour))\n",
    "    cyy = np.zeros(len(contour))\n",
    "    \n",
    "    for i in range(len(contour)):\n",
    "        \n",
    "        if hy[0,i,3] == -1:\n",
    "            \n",
    "            area = cv2.contourArea(contour[i])\n",
    "            \n",
    "            if minarea < area < maxarea:\n",
    "                \n",
    "                \n",
    "                center = contour[i]\n",
    "                M = cv2.moments(center)\n",
    "                \n",
    "                cx = int(M['m10']/M['m00'])\n",
    "                cy = int(M['m01']/M['m00'])\n",
    "                \n",
    "                \n",
    "                x, y, w, h = cv2.boundingRect(center)\n",
    "                \n",
    "                cv2.rectangle(frame, (x,y), (x+w, y+h), (0,0,255),4)\n",
    "                \n",
    "                \n",
    "                \n",
    "    \n",
    "    cv2.imshow('Visitor Counter', frame)\n",
    "#     cv2.imshow('Visitor Counter1', result)\n",
    "    \n",
    "    \n",
    "    if cv2.waitKey(1) & 0xFF == 27:\n",
    "        break\n",
    "        \n",
    "        \n",
    "        \n",
    "cap.release()\n",
    "cv2.destroyAllWindows()\n",
    "\n",
    "\n"
   ]
  },
  {
   "cell_type": "code",
   "execution_count": 2,
   "metadata": {},
   "outputs": [],
   "source": [
    "body = cv2.CascadeClassifier('C:\\\\Users\\\\user\\\\OpenCV\\\\Computer-Vision-with-Python\\\\DATA\\\\haarcascades\\\\haarcascade_fullbody.xml')\n"
   ]
  },
  {
   "cell_type": "code",
   "execution_count": null,
   "metadata": {},
   "outputs": [],
   "source": []
  },
  {
   "cell_type": "code",
   "execution_count": 6,
   "metadata": {},
   "outputs": [],
   "source": [
    "\n",
    "body = cv2.CascadeClassifier('C:\\\\Users\\\\user\\\\OpenCV\\\\Computer-Vision-with-Python\\\\DATA\\\\haarcascades\\\\haarcascade_fullbody.xml')\n",
    "\n",
    "def body_body(frame):\n",
    "    global flag\n",
    "    \n",
    "    img = frame.copy()\n",
    "  \n",
    "    found_body = body.detectMultiScale(img)\n",
    "    \n",
    "    for (x,y,w,h) in found_body: \n",
    "        cv2.rectangle(img, (x,y), (x+w,y+h), (0,0,255), 2)\n",
    "        cv2.circle(img, (x+h//2,y+w//2), 2, (0,0,255), 2,-1)\n",
    "        \n",
    "    return img      "
   ]
  },
  {
   "cell_type": "code",
   "execution_count": 9,
   "metadata": {},
   "outputs": [],
   "source": [
    "cap = cv2.VideoCapture(1)\n",
    "\n",
    "while cap.isOpened():\n",
    "    cv2.namedWindow('Mody', cv2.WINDOW_NORMAL)\n",
    "    \n",
    "    \n",
    "    ret, frame = cap.read()\n",
    "    \n",
    "    \n",
    "    result_frame = body_body(frame)\n",
    "\n",
    "   \n",
    "    \n",
    "    cv2.imshow('Mody',result_frame)\n",
    "    \n",
    "    \n",
    "    if cv2.waitKey(1) & 0xFF == 27:\n",
    "        \n",
    "        break\n",
    "        \n",
    "    \n",
    "cap.release()\n",
    "cv2.destroyAllWindows()\n",
    "    "
   ]
  },
  {
   "cell_type": "code",
   "execution_count": null,
   "metadata": {},
   "outputs": [],
   "source": []
  }
 ],
 "metadata": {
  "kernelspec": {
   "display_name": "Python 3",
   "language": "python",
   "name": "python3"
  },
  "language_info": {
   "codemirror_mode": {
    "name": "ipython",
    "version": 3
   },
   "file_extension": ".py",
   "mimetype": "text/x-python",
   "name": "python",
   "nbconvert_exporter": "python",
   "pygments_lexer": "ipython3",
   "version": "3.7.3"
  }
 },
 "nbformat": 4,
 "nbformat_minor": 2
}
