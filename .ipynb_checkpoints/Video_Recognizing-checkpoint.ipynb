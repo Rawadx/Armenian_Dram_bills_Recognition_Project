{
 "cells": [
  {
   "cell_type": "code",
   "execution_count": 1,
   "metadata": {},
   "outputs": [],
   "source": [
    "import cv2\n",
    "import numpy as np\n",
    "from sklearn import svm"
   ]
  },
  {
   "cell_type": "markdown",
   "metadata": {},
   "source": [
    "Creating Feature exctracting object"
   ]
  },
  {
   "cell_type": "code",
   "execution_count": 2,
   "metadata": {},
   "outputs": [],
   "source": [
    "sift = cv2.xfeatures2d.SIFT_create()"
   ]
  },
  {
   "cell_type": "markdown",
   "metadata": {},
   "source": [
    "# Calling the file for feature extracting"
   ]
  },
  {
   "cell_type": "code",
   "execution_count": 3,
   "metadata": {},
   "outputs": [],
   "source": [
    "# %run Exctracting_Features.ipynb"
   ]
  },
  {
   "cell_type": "markdown",
   "metadata": {},
   "source": [
    "# The below code creates data table for classification"
   ]
  },
  {
   "cell_type": "code",
   "execution_count": 4,
   "metadata": {},
   "outputs": [],
   "source": [
    "# features = []\n",
    "# for i in div:\n",
    "#     gray_img = cv2.cvtColor(i, cv2.COLOR_BGR2GRAY)\n",
    "#     kp_image, desc_image = sift.detectAndCompute(gray_img, None)\n",
    "#     features.append(desc_image)\n",
    "\n",
    "\n"
   ]
  },
  {
   "cell_type": "code",
   "execution_count": null,
   "metadata": {},
   "outputs": [],
   "source": []
  },
  {
   "cell_type": "code",
   "execution_count": 5,
   "metadata": {},
   "outputs": [],
   "source": [
    "\n",
    "# svm_vector = np.zeros((24,5364224))\n",
    "\n",
    "# for i in range(len(features)):\n",
    "    \n",
    "    \n",
    "#     p = np.ravel(features[i])\n",
    "#     vec = np.zeros(5364224-p.shape[0])\n",
    "    \n",
    "#     p = np.concatenate((p,vec))\n",
    "#     svm_vector[i] = p\n",
    "    \n",
    "    "
   ]
  },
  {
   "cell_type": "code",
   "execution_count": 6,
   "metadata": {},
   "outputs": [],
   "source": [
    "# clf = svm.SVC(C=1.0,kernel='poly')\n",
    "# pp = clf.fit(svm_vector, y_hat1) \n"
   ]
  },
  {
   "cell_type": "code",
   "execution_count": 7,
   "metadata": {},
   "outputs": [],
   "source": [
    "\n",
    "# def svm_find(vector, classification):\n",
    "#     width = 851968\n",
    "#     size =   np.zeros((1,width))   \n",
    "\n",
    "    \n",
    "    \n",
    "    \n",
    "#     ravel_vector = np.ravel(vector)\n",
    "#     vec = np.zeros(width-ravel_vector.shape[0])\n",
    "    \n",
    "#     p = np.concatenate((ravel_vector,vec))\n",
    "    \n",
    "#     size[0] = p \n",
    "#     y_pred = classification.predict(size)\n",
    "    \n",
    "#     return y_pred\n",
    "    "
   ]
  },
  {
   "cell_type": "code",
   "execution_count": null,
   "metadata": {},
   "outputs": [],
   "source": [
    "\n"
   ]
  },
  {
   "cell_type": "code",
   "execution_count": 8,
   "metadata": {},
   "outputs": [],
   "source": [
    "# def find_bill(frame, f):\n",
    "#     '''This function compares the features of ROI and Stored features'''\n",
    "#     for i in range(len(f)):\n",
    "#         matches = flann.knnMatch(f[i], frame, k=2)\n",
    "        \n",
    "#         good_points = []\n",
    "#         for m, n in matches:\n",
    "#             if m.distance < 0.8*n.distance:\n",
    "#                 good_points.append(m)\n",
    "                \n",
    "        \n",
    "#         return i, good_points        \n",
    "                       \n",
    "            \n",
    "# #         if len(good_points) > 10:,\n",
    "# #             print(len(good_points))\n",
    "            \n",
    "# #         return 5, good_points\n"
   ]
  },
  {
   "cell_type": "markdown",
   "metadata": {},
   "source": [
    "# Detecting the object"
   ]
  },
  {
   "cell_type": "code",
   "execution_count": 9,
   "metadata": {},
   "outputs": [],
   "source": [
    "img1 = cv2.imread(\"images/1,000AMD_1.jpg\", cv2.IMREAD_GRAYSCALE) # queryiamge\n",
    "\n",
    "kp_image, desc_image = sift.detectAndCompute(img1, None)\n",
    "\n",
    "\n",
    "# Features\n",
    "sift = cv2.xfeatures2d.SIFT_create()\n",
    "\n",
    "# Feature matching\n",
    "index_params = dict(algorithm=0, trees=5)\n",
    "search_params = dict()\n",
    "flann = cv2.FlannBasedMatcher(index_params, search_params)\n",
    "\n",
    "\n",
    "cap = cv2.VideoCapture(0)\n",
    "while True:\n",
    "    _, frame = cap.read()\n",
    "    \n",
    "    grayframe = cv2.cvtColor(frame, cv2.COLOR_BGR2GRAY) # trainimage\n",
    "    \n",
    "    kp_grayframe, desc_grayframe = sift.detectAndCompute(frame, None)\n",
    "    \n",
    "\n",
    "    \n",
    "   \n",
    "    matches = flann.knnMatch(desc_image, desc_grayframe, k=2)\n",
    "    \n",
    "    \n",
    "    good_points = []\n",
    "    for m, n in matches:\n",
    "        if m.distance < 0.8*n.distance:\n",
    "            good_points.append(m)\n",
    "            \n",
    "            \n",
    "\n",
    "    \n",
    "    # Homography\n",
    "    if len(good_points) > 15:\n",
    "        query_pts = np.float32([kp_image[m.queryIdx].pt for m in good_points]).reshape(-1, 1, 2)\n",
    "        train_pts = np.float32([kp_grayframe[m.trainIdx].pt for m in good_points]).reshape(-1, 1, 2)\n",
    "        \n",
    "        matrix, mask = cv2.findHomography(query_pts, train_pts, cv2.RANSAC, 5.0)\n",
    "        #matches_mask = mask.ravel().tolist()\n",
    "        \n",
    "        # Perspective transform\n",
    "        h, w = img1.shape\n",
    "        pts = np.float32([[0, 0], [0, h], [w, h], [w, 0]]).reshape(-1, 1, 2)\n",
    "        \n",
    "        dst = cv2.perspectiveTransform(pts, matrix)\n",
    "#         print(dst)\n",
    "        homography = cv2.polylines(frame, [np.int32(dst)], True, (255, 0, 0), 3)\n",
    "        cv2.imshow(\"Homography\", homography)\n",
    "    else:\n",
    "        cv2.imshow(\"Homography\", grayframe)\n",
    "        \n",
    "\n",
    "    \n",
    "    key = cv2.waitKey(1)\n",
    "   \n",
    "    if key == 27:\n",
    "        break\n",
    "        \n",
    "        \n",
    "cap.release()\n",
    "cv2.destroyAllWindows()"
   ]
  },
  {
   "cell_type": "code",
   "execution_count": 10,
   "metadata": {},
   "outputs": [],
   "source": [
    "# svm_input = np.zeros((1,5364224))\n",
    "\n",
    "# ravel_vector = np.ravel(desc_grayframe)\n",
    "# size = np.zeros(5364224-ravel_vector.shape[0])\n",
    "    \n",
    "# p = np.concatenate((ravel_vector, size))\n",
    "# svm_input[0] = p\n",
    "\n",
    "\n",
    "\n",
    "# p = np.ravel(features[i])\n",
    "# vec = np.zeros(5364224-p.shape[0])\n",
    "    \n",
    "# p = np.concatenate((p,vec))\n",
    "# svm_vector[i] = p"
   ]
  },
  {
   "cell_type": "code",
   "execution_count": null,
   "metadata": {},
   "outputs": [],
   "source": []
  },
  {
   "cell_type": "code",
   "execution_count": null,
   "metadata": {},
   "outputs": [],
   "source": []
  }
 ],
 "metadata": {
  "kernelspec": {
   "display_name": "Python 3",
   "language": "python",
   "name": "python3"
  },
  "language_info": {
   "codemirror_mode": {
    "name": "ipython",
    "version": 3
   },
   "file_extension": ".py",
   "mimetype": "text/x-python",
   "name": "python",
   "nbconvert_exporter": "python",
   "pygments_lexer": "ipython3",
   "version": "3.7.3"
  }
 },
 "nbformat": 4,
 "nbformat_minor": 2
}
