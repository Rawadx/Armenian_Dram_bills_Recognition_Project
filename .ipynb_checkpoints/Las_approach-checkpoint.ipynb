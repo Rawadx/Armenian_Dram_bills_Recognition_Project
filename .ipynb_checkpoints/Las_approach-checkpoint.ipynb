{
 "cells": [
  {
   "cell_type": "code",
   "execution_count": 2,
   "metadata": {},
   "outputs": [],
   "source": [
    "import os, os.path\n",
    "import cv2\n",
    "import matplotlib.pyplot as plt\n",
    "import numpy as np\n",
    "import pandas as pd"
   ]
  },
  {
   "cell_type": "code",
   "execution_count": 8,
   "metadata": {},
   "outputs": [],
   "source": [
    "sift = cv2.xfeatures2d.SIFT_create()"
   ]
  },
  {
   "cell_type": "code",
   "execution_count": 3,
   "metadata": {},
   "outputs": [],
   "source": [
    "\n",
    "imgs = []\n",
    "label=[]\n",
    "path = \"approach/\"\n",
    "valid_images = [\".jpg\"] # ,\".gif\"\n",
    "for f in os.listdir(path):\n",
    "    ext = os.path.splitext(f)[1]\n",
    "    if ext.lower() == '.jpg':\n",
    "#         print(f)\n",
    "        imgs.append(cv2.imread((os.path.join(path,f))))\n",
    "        label.append(f)\n",
    "\n",
    "       \n",
    "\n",
    "\n",
    "\n",
    "div = np.array(imgs)\n",
    "label1=[str('approach/')+i for i in label]\n",
    "label=[i[:-6] for i in label]"
   ]
  },
  {
   "cell_type": "code",
   "execution_count": 15,
   "metadata": {},
   "outputs": [],
   "source": [
    "im = []\n",
    "kp = []\n",
    "for i in range(len(div)):\n",
    "    gray = cv2.cvtColor(div[i], cv2.COLOR_BGR2GRAY)\n",
    "\n",
    "    kp_image, desc_image = sift.detectAndCompute(gray, None)\n",
    "    im.append(desc_image)\n",
    "    kp.append(kp_image)"
   ]
  },
  {
   "cell_type": "code",
   "execution_count": 14,
   "metadata": {},
   "outputs": [],
   "source": [
    "def find_bill(grayframe,kp_info data):\n",
    "    \n",
    "    kp_grayframe, desc_grayframe = sift.detectAndCompute(grayframe, None)\n",
    "    \n",
    "    \n",
    "    for i in range(len(data)):\n",
    "    \n",
    "    \n",
    "        matches = flann.knnMatch(desc_grayframe, data[i], k=2)\n",
    "\n",
    "         # Homography\n",
    "        if len(good_points) > 10:\n",
    "            query_pts = np.float32([kp_image[m.queryIdx].pt for m in good_points]).reshape(-1, 1, 2)\n",
    "            train_pts = np.float32([kp_grayframe[m.trainIdx].pt for m in good_points]).reshape(-1, 1, 2)\n",
    "\n",
    "            matrix, mask = cv2.findHomography(query_pts, train_pts, cv2.RANSAC, 5.0)\n",
    "            #matches_mask = mask.ravel().tolist()\n",
    "\n",
    "            # Perspective transform\n",
    "            h, w = img1.shape\n",
    "            pts = np.float32([[0, 0], [0, h], [w, h], [w, 0]]).reshape(-1, 1, 2)\n",
    "\n",
    "            dst = cv2.perspectiveTransform(pts, matrix)\n",
    "    #         print(dst)\n",
    "            homography = cv2.polylines(frame, [np.int32(dst)], True, (255, 0, 0), 3)\n",
    "            cv2.imshow(\"Homography\", homography)\n",
    "        else:\n",
    "            cv2.imshow(\"Homography\", grayframe)\n",
    "\n",
    "\n",
    "    \n",
    "    \n",
    "    \n",
    "    \n",
    "    \n",
    "    \n",
    "    \n",
    "    \n",
    "    \n",
    "    \n",
    "    \n",
    "    \n",
    "    \n",
    "    \n",
    "    \n",
    "    \n",
    "    "
   ]
  },
  {
   "cell_type": "code",
   "execution_count": null,
   "metadata": {},
   "outputs": [],
   "source": []
  },
  {
   "cell_type": "code",
   "execution_count": 38,
   "metadata": {},
   "outputs": [],
   "source": [
    "\n",
    "\n",
    "index_params = dict(algorithm=0, trees=5)\n",
    "search_params = dict()\n",
    "flann = cv2.FlannBasedMatcher(index_params, search_params)\n",
    "\n",
    "\n",
    "cap = cv2.VideoCapture(0)\n",
    "\n",
    "while cap.isOpened():\n",
    "    \n",
    "    re, frame = cap.read()\n",
    "       \n",
    "    frame = cv2.flip(frame,180)\n",
    "    gray = cv2.cvtColor(frame, cv2.COLOR_BGR2GRAY)\n",
    "    \n",
    "    h, w = gray.shape\n",
    "    \n",
    "    roi =  gray[100:320,h//2-100: w//2+200 ]\n",
    "    \n",
    "    rezult = find_bill(roi,kp, im)\n",
    "    \n",
    "   \n",
    "    \n",
    "                   \n",
    "    cv2.rectangle(frame, (150,100), (w//2+200, h//2+80), (0,0,255),4)\n",
    "            \n",
    "     \n",
    "    \n",
    "    \n",
    "    cv2.imshow('Detecting Bills', frame)\n",
    "    cv2.imshow('Visitor Counter', roi)\n",
    "    \n",
    "    \n",
    "    if cv2.waitKey(1) & 0xFF == 27:\n",
    "        break\n",
    "        \n",
    "        \n",
    "        \n",
    "cap.release()\n",
    "cv2.destroyAllWindows()"
   ]
  },
  {
   "cell_type": "code",
   "execution_count": null,
   "metadata": {},
   "outputs": [],
   "source": []
  },
  {
   "cell_type": "code",
   "execution_count": null,
   "metadata": {},
   "outputs": [],
   "source": []
  },
  {
   "cell_type": "code",
   "execution_count": null,
   "metadata": {},
   "outputs": [],
   "source": []
  }
 ],
 "metadata": {
  "kernelspec": {
   "display_name": "Python 3",
   "language": "python",
   "name": "python3"
  },
  "language_info": {
   "codemirror_mode": {
    "name": "ipython",
    "version": 3
   },
   "file_extension": ".py",
   "mimetype": "text/x-python",
   "name": "python",
   "nbconvert_exporter": "python",
   "pygments_lexer": "ipython3",
   "version": "3.7.3"
  }
 },
 "nbformat": 4,
 "nbformat_minor": 2
}
