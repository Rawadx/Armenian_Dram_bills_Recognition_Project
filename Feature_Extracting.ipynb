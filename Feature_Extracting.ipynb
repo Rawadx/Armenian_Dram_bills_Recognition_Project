{
 "cells": [
  {
   "cell_type": "code",
   "execution_count": 1,
   "metadata": {},
   "outputs": [],
   "source": [
    "import os, os.path\n",
    "import cv2\n",
    "import matplotlib.pyplot as plt\n",
    "import numpy as np\n",
    "# import \n",
    "\n",
    "\n",
    "\n",
    "imgs = []\n",
    "label=[]\n",
    "path = \"images/\"\n",
    "valid_images = [\".jpg\"] # ,\".gif\"\n",
    "for f in os.listdir(path):\n",
    "    ext = os.path.splitext(f)[1]\n",
    "    if ext.lower() == '.jpg':\n",
    "#         print(f)\n",
    "        imgs.append(cv2.imread((os.path.join(path,f))))\n",
    "        label.append(f)\n",
    "\n",
    "# plt.imshow(imgs[0])        \n",
    "\n",
    "\n",
    "\n",
    "div = np.array(imgs)\n",
    "label=[i[:-6] for i in label]\n"
   ]
  },
  {
   "cell_type": "code",
   "execution_count": 3,
   "metadata": {},
   "outputs": [
    {
     "data": {
      "text/plain": [
       "['Fifty_thousand_Dram',\n",
       " 'Fifty_thousand_Dram',\n",
       " 'Fifty_thousand_Dram',\n",
       " 'Fifty_thousand_Dram',\n",
       " 'Five_thousand_Dram',\n",
       " 'Five_thousand_Dram',\n",
       " 'Five_thousand_Dram',\n",
       " 'Five_thousand_Dram',\n",
       " 'One_hundred thousand',\n",
       " 'One_hundred thousand',\n",
       " 'One_thousand_Dram',\n",
       " 'One_thousand_Dram',\n",
       " 'One_thousand_Dram',\n",
       " 'One_thousand_Dram',\n",
       " 'Ten_thousand_Dram',\n",
       " 'Ten_thousand_Dram',\n",
       " 'Ten_thousand_Dram',\n",
       " 'Ten_thousand_Dram',\n",
       " 'Twenty_thousand_Dram',\n",
       " 'Twenty_thousand_Dram',\n",
       " 'Twenty_thousand_Dram',\n",
       " 'Twenty_thousand_Dram',\n",
       " 'Two_thousand_Dram',\n",
       " 'Two_thousand_Dram']"
      ]
     },
     "execution_count": 3,
     "metadata": {},
     "output_type": "execute_result"
    }
   ],
   "source": [
    "label"
   ]
  },
  {
   "cell_type": "code",
   "execution_count": null,
   "metadata": {},
   "outputs": [],
   "source": []
  }
 ],
 "metadata": {
  "kernelspec": {
   "display_name": "Python 3",
   "language": "python",
   "name": "python3"
  },
  "language_info": {
   "codemirror_mode": {
    "name": "ipython",
    "version": 3
   },
   "file_extension": ".py",
   "mimetype": "text/x-python",
   "name": "python",
   "nbconvert_exporter": "python",
   "pygments_lexer": "ipython3",
   "version": "3.7.3"
  }
 },
 "nbformat": 4,
 "nbformat_minor": 2
}
