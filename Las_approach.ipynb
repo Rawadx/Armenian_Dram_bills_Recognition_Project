{
 "cells": [
  {
   "cell_type": "code",
   "execution_count": 1,
   "metadata": {},
   "outputs": [],
   "source": [
    "import os, os.path\n",
    "import cv2\n",
    "import matplotlib.pyplot as plt\n",
    "import numpy as np\n",
    "import pandas as pd"
   ]
  },
  {
   "cell_type": "code",
   "execution_count": 2,
   "metadata": {},
   "outputs": [],
   "source": [
    "sift = cv2.xfeatures2d.SIFT_create()"
   ]
  },
  {
   "cell_type": "code",
   "execution_count": 3,
   "metadata": {},
   "outputs": [],
   "source": [
    "\n",
    "imgs = []\n",
    "label=[]\n",
    "path = \"approach/\"\n",
    "valid_images = [\".jpg\"] # ,\".gif\"\n",
    "for f in os.listdir(path):\n",
    "    ext = os.path.splitext(f)[1]\n",
    "    if ext.lower() == '.jpg':\n",
    "#         print(f)\n",
    "        imgs.append(cv2.imread((os.path.join(path,f))))\n",
    "        label.append(f)\n",
    "\n",
    "       \n",
    "\n",
    "\n",
    "\n",
    "div = np.array(imgs)\n",
    "label1=[str('approach/')+i for i in label]\n",
    "label=[i[:-6] for i in label]"
   ]
  },
  {
   "cell_type": "code",
   "execution_count": 4,
   "metadata": {},
   "outputs": [],
   "source": [
    "im = []\n",
    "kp = []\n",
    "for i in range(len(div)):\n",
    "    gray = cv2.cvtColor(div[i], cv2.COLOR_BGR2GRAY)\n",
    "\n",
    "    kp_image, desc_image = sift.detectAndCompute(gray, None)\n",
    "    im.append(desc_image)\n",
    "    kp.append(kp_image)"
   ]
  },
  {
   "cell_type": "code",
   "execution_count": 5,
   "metadata": {},
   "outputs": [
    {
     "name": "stdout",
     "output_type": "stream",
     "text": [
      "0\n",
      "0\n",
      "0\n",
      "0\n",
      "0\n",
      "1\n",
      "0\n",
      "1\n",
      "0\n",
      "0\n",
      "0\n",
      "0\n",
      "0\n",
      "0\n",
      "1\n",
      "0\n"
     ]
    }
   ],
   "source": [
    "bill=[\"1000AMD\",\"20,000AMD\"]\n",
    " # for cheking the max value\n",
    "j = 0\n",
    "k = []\n",
    "index_params = dict(algorithm=0, trees=5)\n",
    "search_params = dict()\n",
    "flann = cv2.FlannBasedMatcher(index_params, search_params)\n",
    "\n",
    "\n",
    "cap = cv2.VideoCapture(0)\n",
    "\n",
    "while cap.isOpened():\n",
    "    \n",
    "    re, frame = cap.read()\n",
    "       \n",
    "    frame = cv2.flip(frame,180)\n",
    "    gray = cv2.cvtColor(frame, cv2.COLOR_BGR2GRAY)\n",
    "    \n",
    "    \n",
    "    \n",
    "    h, w = gray.shape\n",
    "    cv2.rectangle(frame, (150,100), (w//2+200, h//2+80), (100,100,100),4)\n",
    "    roi =  gray[100:320,h//2-100: w//2+200 ]\n",
    "    \n",
    "    \n",
    "    kp_grayframe, desc_grayframe = sift.detectAndCompute(roi, None)\n",
    "    \n",
    "#     print(desc_grayframe.shape)\n",
    "    \n",
    "#     rezult = find_bill(roi,kp, im)\n",
    "    \n",
    "   \n",
    "    k = []      \n",
    "    for i in range(len(im)):        \n",
    "\n",
    "        matches = flann.knnMatch(desc_grayframe, im[i], k=2)\n",
    "        good_points = []\n",
    "\n",
    "\n",
    "        for m, n in matches:\n",
    "            if m.distance < 0.8*n.distance:\n",
    "                good_points.append(m)\n",
    "\n",
    "\n",
    "        k.append(len(good_points))\n",
    "        \n",
    "#     print(k)\n",
    "    \n",
    "    if np.max(k) > 17:   \n",
    "             # Homography\n",
    "        j = np.argmax(k)\n",
    "        print(j)\n",
    "        \n",
    "   \n",
    "\n",
    "\n",
    "\n",
    "        cv2.putText(frame, bill[j],(150,100), cv2.FONT_HERSHEY_SIMPLEX, 2,(255,0,0),3,cv2.LINE_AA)\n",
    "\n",
    "    cv2.imshow(\"Homography\", frame)\n",
    "\n",
    "\n",
    "    \n",
    "    if cv2.waitKey(1) & 0xFF == 27:\n",
    "        break\n",
    "        \n",
    "        \n",
    "        \n",
    "cap.release()\n",
    "cv2.destroyAllWindows()"
   ]
  },
  {
   "cell_type": "code",
   "execution_count": 2,
   "metadata": {},
   "outputs": [
    {
     "data": {
      "text/plain": [
       "[]"
      ]
     },
     "execution_count": 2,
     "metadata": {},
     "output_type": "execute_result"
    }
   ],
   "source": [
    "k"
   ]
  },
  {
   "cell_type": "code",
   "execution_count": null,
   "metadata": {},
   "outputs": [],
   "source": []
  },
  {
   "cell_type": "code",
   "execution_count": null,
   "metadata": {},
   "outputs": [],
   "source": []
  }
 ],
 "metadata": {
  "kernelspec": {
   "display_name": "Python 3",
   "language": "python",
   "name": "python3"
  },
  "language_info": {
   "codemirror_mode": {
    "name": "ipython",
    "version": 3
   },
   "file_extension": ".py",
   "mimetype": "text/x-python",
   "name": "python",
   "nbconvert_exporter": "python",
   "pygments_lexer": "ipython3",
   "version": "3.7.3"
  }
 },
 "nbformat": 4,
 "nbformat_minor": 2
}
