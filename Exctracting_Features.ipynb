{
 "cells": [
  {
   "cell_type": "code",
   "execution_count": 5,
   "metadata": {},
   "outputs": [],
   "source": [
    "import os, os.path\n",
    "import cv2\n",
    "import matplotlib.pyplot as plt\n",
    "import numpy as np\n",
    "import pandas as pd"
   ]
  },
  {
   "cell_type": "code",
   "execution_count": 6,
   "metadata": {},
   "outputs": [],
   "source": [
    "sift = cv2.xfeatures2d.SIFT_create()"
   ]
  },
  {
   "cell_type": "code",
   "execution_count": 11,
   "metadata": {},
   "outputs": [],
   "source": [
    "\n",
    "imgs = []\n",
    "label=[]\n",
    "path = \"images/\"\n",
    "valid_images = [\".jpg\"] # ,\".gif\"\n",
    "for f in os.listdir(path):\n",
    "    ext = os.path.splitext(f)[1]\n",
    "    if ext.lower() == '.jpg':\n",
    "#         print(f)\n",
    "        imgs.append(cv2.imread((os.path.join(path,f))))\n",
    "        label.append(f)\n",
    "\n",
    "       \n",
    "\n",
    "\n",
    "\n",
    "div = np.array(imgs)\n",
    "label1=[str('images/')+i for i in label]\n",
    "label=[i[:-6] for i in label]\n",
    "\n",
    "\n"
   ]
  },
  {
   "cell_type": "code",
   "execution_count": 21,
   "metadata": {},
   "outputs": [],
   "source": [
    "y_hat = ['1,000', '1,000', '1,000', '1,000', '10,000', '10,000', '10,000', '10,000', '100,000', '100,000',\n",
    " '2,000', '2,000', '20,000', '20,000', '20,000', '20,000', '5,000', '5,000', '5,000', '5,000',\n",
    " '50,000', '50,000', '50,000', '50,000']"
   ]
  },
  {
   "cell_type": "code",
   "execution_count": 26,
   "metadata": {},
   "outputs": [],
   "source": [
    "# y_hat1 = ['1,000', '1,000', '1,000','1,000', '0', '0', '0', '0', '0', '0', '0', '0', '0', '0', '0', '0', \n",
    "#           '0', '0', '0', '0', '0', '0', '0', '0']\n",
    "\n",
    "y_hat1 = ['1,000', '1,000', '1,000','1,000', '1,000', '1,000', '1,000','1,000', '1,000', '1,000', '1,000',\n",
    "          '1,000', '1,000', '1,000', '1,000', '0', '0', '0', '0', '0', '0', '0', '0', '0', '0', '0', '0', \n",
    "          '0', '0', '0', '0', '0', '0', '0', '0','0']"
   ]
  },
  {
   "cell_type": "code",
   "execution_count": 27,
   "metadata": {},
   "outputs": [
    {
     "data": {
      "text/plain": [
       "35"
      ]
     },
     "execution_count": 27,
     "metadata": {},
     "output_type": "execute_result"
    }
   ],
   "source": [
    "len(y_hat1)"
   ]
  },
  {
   "cell_type": "code",
   "execution_count": 12,
   "metadata": {},
   "outputs": [],
   "source": [
    "# im = []\n",
    "# for i in range(len(div)):\n",
    "#     gray = cv2.cvtColor(div[i], cv2.COLOR_BGR2GRAY)\n",
    "#     gray = cv2.resize(gray,(960,480))\n",
    "#     kp_image, desc_image = sift.detectAndCompute(gray, None)\n",
    "#     im.append(desc_image)\n"
   ]
  },
  {
   "cell_type": "code",
   "execution_count": 13,
   "metadata": {},
   "outputs": [],
   "source": [
    "# width = 851968\n",
    "# svm_vector = np.zeros((len(im),width))\n",
    "\n",
    "# for i in range(len(im)):\n",
    "    \n",
    "    \n",
    "#     p = np.ravel(im[i])\n",
    "#     vec = np.zeros(width-p.shape[0])\n",
    "    \n",
    "#     p = np.concatenate((p,vec))\n",
    "#     svm_vector[i] = p"
   ]
  },
  {
   "cell_type": "code",
   "execution_count": null,
   "metadata": {},
   "outputs": [],
   "source": []
  },
  {
   "cell_type": "code",
   "execution_count": null,
   "metadata": {},
   "outputs": [],
   "source": []
  },
  {
   "cell_type": "code",
   "execution_count": null,
   "metadata": {},
   "outputs": [],
   "source": []
  },
  {
   "cell_type": "code",
   "execution_count": null,
   "metadata": {},
   "outputs": [],
   "source": []
  },
  {
   "cell_type": "code",
   "execution_count": null,
   "metadata": {},
   "outputs": [],
   "source": []
  },
  {
   "cell_type": "code",
   "execution_count": null,
   "metadata": {},
   "outputs": [],
   "source": [
    "\n"
   ]
  },
  {
   "cell_type": "code",
   "execution_count": null,
   "metadata": {},
   "outputs": [],
   "source": []
  },
  {
   "cell_type": "code",
   "execution_count": null,
   "metadata": {},
   "outputs": [],
   "source": []
  }
 ],
 "metadata": {
  "kernelspec": {
   "display_name": "Python 3",
   "language": "python",
   "name": "python3"
  },
  "language_info": {
   "codemirror_mode": {
    "name": "ipython",
    "version": 3
   },
   "file_extension": ".py",
   "mimetype": "text/x-python",
   "name": "python",
   "nbconvert_exporter": "python",
   "pygments_lexer": "ipython3",
   "version": "3.7.3"
  }
 },
 "nbformat": 4,
 "nbformat_minor": 2
}
