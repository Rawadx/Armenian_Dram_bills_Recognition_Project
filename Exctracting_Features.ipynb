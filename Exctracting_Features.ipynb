{
 "cells": [
  {
   "cell_type": "code",
   "execution_count": 54,
   "metadata": {},
   "outputs": [],
   "source": [
    "import os, os.path\n",
    "import cv2\n",
    "import matplotlib.pyplot as plt\n",
    "import numpy as np\n",
    "import pandas as pd\n",
    "\n",
    "\n",
    "imgs = []\n",
    "label=[]\n",
    "path = \"images/\"\n",
    "valid_images = [\".jpg\"] # ,\".gif\"\n",
    "for f in os.listdir(path):\n",
    "    ext = os.path.splitext(f)[1]\n",
    "    if ext.lower() == '.jpg':\n",
    "#         print(f)\n",
    "        imgs.append(cv2.imread((os.path.join(path,f))))\n",
    "        label.append(f)\n",
    "\n",
    "       \n",
    "\n",
    "\n",
    "\n",
    "div = np.array(imgs)\n",
    "label=[i[:-6] for i in label]"
   ]
  },
  {
   "cell_type": "code",
   "execution_count": 55,
   "metadata": {},
   "outputs": [],
   "source": [
    "y_hat = ['1,000', '1,000', '1,000', '1,000', '10,000', '10,000', '10,000', '10,000', '100,000', '100,000',\n",
    " '2,000', '2,000', '20,000', '20,000', '20,000', '20,000', '5,000', '5,000', '5,000', '5,000',\n",
    " '50,000', '50,000', '50,000', '50,000']"
   ]
  },
  {
   "cell_type": "code",
   "execution_count": 71,
   "metadata": {},
   "outputs": [],
   "source": [
    "y_hat1 = ['1,000', '1,000', '1,000', '1,000', '0', '0', '0', '0', '0', '0',\n",
    " '0', '0', '0', '0', '0', '0', '0', '0', '0', '0', '0', '0', '0', '0']"
   ]
  },
  {
   "cell_type": "code",
   "execution_count": 66,
   "metadata": {},
   "outputs": [],
   "source": [
    "im = []\n",
    "for i in range(len(div)):\n",
    "    gray = cv2.cvtColor(div[i], cv2.COLOR_BGR2GRAY)\n",
    "    im.append(cv2.resize(gray,(960,480)))\n",
    "\n"
   ]
  },
  {
   "cell_type": "code",
   "execution_count": 57,
   "metadata": {},
   "outputs": [],
   "source": [
    "im = np.array(im)"
   ]
  },
  {
   "cell_type": "code",
   "execution_count": 69,
   "metadata": {},
   "outputs": [],
   "source": [
    "width = 460800\n",
    "svm_vector = np.zeros((24,width))\n",
    "for i in range(len(im)):\n",
    "    \n",
    "    p = np.ravel(im[i])\n",
    "    \n",
    "    svm_vector[i] = p"
   ]
  },
  {
   "cell_type": "code",
   "execution_count": null,
   "metadata": {},
   "outputs": [],
   "source": []
  },
  {
   "cell_type": "code",
   "execution_count": null,
   "metadata": {},
   "outputs": [],
   "source": [
    "\n"
   ]
  },
  {
   "cell_type": "code",
   "execution_count": 65,
   "metadata": {},
   "outputs": [],
   "source": [
    "# plt.imshow(im[1])"
   ]
  },
  {
   "cell_type": "code",
   "execution_count": null,
   "metadata": {},
   "outputs": [],
   "source": []
  }
 ],
 "metadata": {
  "kernelspec": {
   "display_name": "Python 3",
   "language": "python",
   "name": "python3"
  },
  "language_info": {
   "codemirror_mode": {
    "name": "ipython",
    "version": 3
   },
   "file_extension": ".py",
   "mimetype": "text/x-python",
   "name": "python",
   "nbconvert_exporter": "python",
   "pygments_lexer": "ipython3",
   "version": "3.7.3"
  }
 },
 "nbformat": 4,
 "nbformat_minor": 2
}
